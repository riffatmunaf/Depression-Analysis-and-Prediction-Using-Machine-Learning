{
  "cells": [
    {
      "cell_type": "markdown",
      "id": "07263928-a798-4d91-930e-9aaa9a61dbb1",
      "metadata": {
        "id": "07263928-a798-4d91-930e-9aaa9a61dbb1"
      },
      "source": [
        "# Data Cleaning"
      ]
    },
    {
      "cell_type": "code",
      "execution_count": null,
      "id": "cabf8fe0-647c-4410-8dae-4ec4ae2a08fd",
      "metadata": {
        "id": "cabf8fe0-647c-4410-8dae-4ec4ae2a08fd",
        "outputId": "2167bb74-ca87-44d3-889e-69da5ebef143"
      },
      "outputs": [
        {
          "name": "stdout",
          "output_type": "stream",
          "text": [
            "<class 'pandas.core.frame.DataFrame'>\n",
            "RangeIndex: 2556 entries, 0 to 2555\n",
            "Data columns (total 18 columns):\n",
            " #   Column                                 Non-Null Count  Dtype  \n",
            "---  ------                                 --------------  -----  \n",
            " 0   Gender                                 2556 non-null   object \n",
            " 1   Age                                    2556 non-null   int64  \n",
            " 2   City                                   2556 non-null   object \n",
            " 3   Working Professional or Student        2556 non-null   object \n",
            " 4   Profession                             1883 non-null   object \n",
            " 5   Academic Pressure                      502 non-null    float64\n",
            " 6   Work Pressure                          2054 non-null   float64\n",
            " 7   CGPA                                   502 non-null    float64\n",
            " 8   Study Satisfaction                     502 non-null    float64\n",
            " 9   Job Satisfaction                       2054 non-null   float64\n",
            " 10  Sleep Duration                         2556 non-null   object \n",
            " 11  Dietary Habits                         2556 non-null   object \n",
            " 12  Degree                                 2556 non-null   object \n",
            " 13  Have you ever had suicidal thoughts ?  2556 non-null   object \n",
            " 14  Work/Study Hours                       2556 non-null   int64  \n",
            " 15  Financial Stress                       2556 non-null   int64  \n",
            " 16  Family History of Mental Illness       2556 non-null   object \n",
            " 17  Depression                             2556 non-null   object \n",
            "dtypes: float64(5), int64(3), object(10)\n",
            "memory usage: 359.6+ KB\n"
          ]
        }
      ],
      "source": [
        "import pandas as pd\n",
        "\n",
        "# Loading the dataset\n",
        "file_path = \"../Dataset/final_depression_dataset.csv\"\n",
        "df = pd.read_csv(file_path)\n",
        "df.info()"
      ]
    },
    {
      "cell_type": "code",
      "execution_count": null,
      "id": "7f9bc708-8a10-4b02-942e-cbf37e067828",
      "metadata": {
        "id": "7f9bc708-8a10-4b02-942e-cbf37e067828",
        "outputId": "39a6912b-db93-483b-a152-b05b39660f51"
      },
      "outputs": [
        {
          "name": "stdout",
          "output_type": "stream",
          "text": [
            "Number of duplicate rows: 0\n",
            "Missing values in each column:\n",
            " Gender                                      0\n",
            "Age                                         0\n",
            "City                                        0\n",
            "Working Professional or Student             0\n",
            "Profession                                673\n",
            "Academic Pressure                        2054\n",
            "Work Pressure                             502\n",
            "CGPA                                     2054\n",
            "Study Satisfaction                       2054\n",
            "Job Satisfaction                          502\n",
            "Sleep Duration                              0\n",
            "Dietary Habits                              0\n",
            "Degree                                      0\n",
            "Have you ever had suicidal thoughts ?       0\n",
            "Work/Study Hours                            0\n",
            "Financial Stress                            0\n",
            "Family History of Mental Illness            0\n",
            "Depression                                  0\n",
            "dtype: int64\n"
          ]
        }
      ],
      "source": [
        "# Checking for duplicate rows\n",
        "print(\"Number of duplicate rows:\", df.duplicated().sum())\n",
        "\n",
        "# Checking for missing values\n",
        "print(\"Missing values in each column:\\n\", df.isnull().sum())"
      ]
    },
    {
      "cell_type": "code",
      "execution_count": null,
      "id": "f96c0ce8-0ec8-43d3-95fc-8564e383be96",
      "metadata": {
        "id": "f96c0ce8-0ec8-43d3-95fc-8564e383be96"
      },
      "outputs": [],
      "source": [
        "# Fill missing values for numerical columns with -1\n",
        "numerical_columns_with_na = ['Academic Pressure', 'Work Pressure', 'CGPA', 'Study Satisfaction', 'Job Satisfaction']\n",
        "df[numerical_columns_with_na] = df[numerical_columns_with_na].fillna(-1)\n",
        "\n",
        "# Fill missing values for the 'Profession' column with 'Not Described'\n",
        "df['Profession'] = df['Profession'].fillna('Not Described')"
      ]
    },
    {
      "cell_type": "code",
      "execution_count": null,
      "id": "d3639591-30b7-493f-a509-700e88534262",
      "metadata": {
        "id": "d3639591-30b7-493f-a509-700e88534262",
        "outputId": "db21dc9b-f1bd-48aa-d4f3-5c368d88ba66"
      },
      "outputs": [
        {
          "data": {
            "text/plain": [
              "['../Results/Encoders\\\\ordinal_encoder.pkl']"
            ]
          },
          "execution_count": 5,
          "metadata": {},
          "output_type": "execute_result"
        }
      ],
      "source": [
        "import os\n",
        "from sklearn.preprocessing import OrdinalEncoder, OneHotEncoder\n",
        "import joblib\n",
        "\n",
        "encoders_dir = \"../Results/Encoders\"\n",
        "os.makedirs(encoders_dir, exist_ok=True)\n",
        "\n",
        "# Features and categories in order\n",
        "features = ['Sleep Duration', 'Dietary Habits', 'Degree']\n",
        "categories = [['Less than 5 hours', '5-6 hours', '7-8 hours', 'More than 8 hours'],\n",
        "                ['Unhealthy', 'Moderate', 'Healthy'],\n",
        "                ['Class 12', 'B.Com', 'M.Com', 'MD', 'BE', 'MCA', 'BA', 'LLM', 'BCA', 'B.Ed', 'M.Tech', 'LLB', 'B.Arch', 'ME', 'MA' 'MBA',\n",
        "                 'M.Pharm', 'MBBS', 'PhD', 'BSc', 'MSc', 'MHM', 'BBA', 'BHM', 'B.Tech', 'M.Ed', 'B.Pharm']]\n",
        "\n",
        "# Performing Ordinal Encoding\n",
        "df[features] = df[features].astype(str)\n",
        "encoder = OrdinalEncoder(categories=categories, handle_unknown='use_encoded_value', unknown_value=-1)\n",
        "df[features] = encoder.fit_transform(df[features])\n",
        "\n",
        "# Saving encoder\n",
        "joblib.dump(encoder, os.path.join(encoders_dir, 'ordinal_encoder.pkl'))"
      ]
    }
  ],
  "metadata": {
    "kernelspec": {
      "display_name": "Python [conda env:Orange]",
      "language": "python",
      "name": "conda-env-Orange-py"
    },
    "language_info": {
      "codemirror_mode": {
        "name": "ipython",
        "version": 3
      },
      "file_extension": ".py",
      "mimetype": "text/x-python",
      "name": "python",
      "nbconvert_exporter": "python",
      "pygments_lexer": "ipython3",
      "version": "3.11.8"
    },
    "colab": {
      "provenance": []
    }
  },
  "nbformat": 4,
  "nbformat_minor": 5
}