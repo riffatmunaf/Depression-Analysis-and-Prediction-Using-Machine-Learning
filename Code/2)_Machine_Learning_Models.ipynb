{
  "cells": [
    {
      "cell_type": "markdown",
      "id": "07263928-a798-4d91-930e-9aaa9a61dbb1",
      "metadata": {
        "id": "07263928-a798-4d91-930e-9aaa9a61dbb1"
      },
      "source": [
        "# Data Cleaning"
      ]
    },
    {
      "cell_type": "code",
      "execution_count": null,
      "id": "cabf8fe0-647c-4410-8dae-4ec4ae2a08fd",
      "metadata": {
        "id": "cabf8fe0-647c-4410-8dae-4ec4ae2a08fd",
        "outputId": "dfbdd3db-4b04-48ef-f1ba-a9a5e66b17b3"
      },
      "outputs": [
        {
          "name": "stdout",
          "output_type": "stream",
          "text": [
            "<class 'pandas.core.frame.DataFrame'>\n",
            "RangeIndex: 2556 entries, 0 to 2555\n",
            "Data columns (total 18 columns):\n",
            " #   Column                                 Non-Null Count  Dtype  \n",
            "---  ------                                 --------------  -----  \n",
            " 0   Gender                                 2556 non-null   object \n",
            " 1   Age                                    2556 non-null   int64  \n",
            " 2   City                                   2556 non-null   object \n",
            " 3   Working Professional or Student        2556 non-null   object \n",
            " 4   Profession                             1883 non-null   object \n",
            " 5   Academic Pressure                      502 non-null    float64\n",
            " 6   Work Pressure                          2054 non-null   float64\n",
            " 7   CGPA                                   502 non-null    float64\n",
            " 8   Study Satisfaction                     502 non-null    float64\n",
            " 9   Job Satisfaction                       2054 non-null   float64\n",
            " 10  Sleep Duration                         2556 non-null   object \n",
            " 11  Dietary Habits                         2556 non-null   object \n",
            " 12  Degree                                 2556 non-null   object \n",
            " 13  Have you ever had suicidal thoughts ?  2556 non-null   object \n",
            " 14  Work/Study Hours                       2556 non-null   int64  \n",
            " 15  Financial Stress                       2556 non-null   int64  \n",
            " 16  Family History of Mental Illness       2556 non-null   object \n",
            " 17  Depression                             2556 non-null   object \n",
            "dtypes: float64(5), int64(3), object(10)\n",
            "memory usage: 359.6+ KB\n"
          ]
        }
      ],
      "source": [
        "import pandas as pd\n",
        "\n",
        "# Loading the dataset\n",
        "file_path = \"../Dataset/final_depression_dataset.csv\"\n",
        "df = pd.read_csv(file_path)\n",
        "df.info()"
      ]
    },
    {
      "cell_type": "code",
      "execution_count": null,
      "id": "7f9bc708-8a10-4b02-942e-cbf37e067828",
      "metadata": {
        "id": "7f9bc708-8a10-4b02-942e-cbf37e067828",
        "outputId": "cfe811a2-89c7-41d8-efbc-b2d4cc13d2c5"
      },
      "outputs": [
        {
          "name": "stdout",
          "output_type": "stream",
          "text": [
            "Number of duplicate rows: 0\n",
            "Missing values in each column:\n",
            " Gender                                      0\n",
            "Age                                         0\n",
            "City                                        0\n",
            "Working Professional or Student             0\n",
            "Profession                                673\n",
            "Academic Pressure                        2054\n",
            "Work Pressure                             502\n",
            "CGPA                                     2054\n",
            "Study Satisfaction                       2054\n",
            "Job Satisfaction                          502\n",
            "Sleep Duration                              0\n",
            "Dietary Habits                              0\n",
            "Degree                                      0\n",
            "Have you ever had suicidal thoughts ?       0\n",
            "Work/Study Hours                            0\n",
            "Financial Stress                            0\n",
            "Family History of Mental Illness            0\n",
            "Depression                                  0\n",
            "dtype: int64\n"
          ]
        }
      ],
      "source": [
        "# Checking for duplicate rows\n",
        "print(\"Number of duplicate rows:\", df.duplicated().sum())\n",
        "\n",
        "# Checking for missing values\n",
        "print(\"Missing values in each column:\\n\", df.isnull().sum())"
      ]
    },
    {
      "cell_type": "code",
      "execution_count": null,
      "id": "d666f5e2-a0fc-4491-85cd-e64076d29686",
      "metadata": {
        "id": "d666f5e2-a0fc-4491-85cd-e64076d29686"
      },
      "outputs": [],
      "source": []
    }
  ],
  "metadata": {
    "kernelspec": {
      "display_name": "Python [conda env:Orange]",
      "language": "python",
      "name": "conda-env-Orange-py"
    },
    "language_info": {
      "codemirror_mode": {
        "name": "ipython",
        "version": 3
      },
      "file_extension": ".py",
      "mimetype": "text/x-python",
      "name": "python",
      "nbconvert_exporter": "python",
      "pygments_lexer": "ipython3",
      "version": "3.11.8"
    },
    "colab": {
      "provenance": []
    }
  },
  "nbformat": 4,
  "nbformat_minor": 5
}